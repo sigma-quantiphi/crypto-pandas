{
 "cells": [
  {
   "cell_type": "markdown",
   "id": "309b94b4-915a-4932-a27d-6414836b671c",
   "metadata": {},
   "source": [
    "# Example 1: Load OHLCV and orderbook data"
   ]
  },
  {
   "cell_type": "code",
   "execution_count": 1,
   "id": "a61a828e-22c3-4103-9a30-85a4806c2955",
   "metadata": {},
   "outputs": [
    {
     "name": "stdout",
     "output_type": "stream",
     "text": [
      "| timestamp                 |   open |   high |    low |   close |   volume |\n",
      "|:--------------------------|-------:|-------:|-------:|--------:|---------:|\n",
      "| 2025-06-03 08:01:00+00:00 | 665.57 | 665.65 | 665.41 |  665.65 |   231.46 |\n",
      "| 2025-06-03 08:02:00+00:00 | 665.66 | 665.73 | 665.54 |  665.54 |   334    |\n",
      "| 2025-06-03 08:03:00+00:00 | 665.53 | 665.53 | 665.32 |  665.38 |   327.05 |\n",
      "| 2025-06-03 08:04:00+00:00 | 665.37 | 665.47 | 665.37 |  665.47 |   178.8  |\n",
      "| 2025-06-03 08:05:00+00:00 | 665.46 | 665.48 | 665.46 |  665.47 |   101.82 |\n",
      "|   price |   qty | symbol        | timestamp                        | datetime                         |         nonce | side   |\n",
      "|--------:|------:|:--------------|:---------------------------------|:---------------------------------|--------------:|:-------|\n",
      "|  655.38 |  0.66 | BNB/USDT:USDT | 2025-06-03 08:05:42.614000+00:00 | 2025-06-03 08:05:42.614000+00:00 | 7697715058071 | bids   |\n",
      "|  655.37 |  0.16 | BNB/USDT:USDT | 2025-06-03 08:05:42.614000+00:00 | 2025-06-03 08:05:42.614000+00:00 | 7697715058071 | bids   |\n",
      "|  655.36 |  0.05 | BNB/USDT:USDT | 2025-06-03 08:05:42.614000+00:00 | 2025-06-03 08:05:42.614000+00:00 | 7697715058071 | bids   |\n",
      "|  655.35 |  6.65 | BNB/USDT:USDT | 2025-06-03 08:05:42.614000+00:00 | 2025-06-03 08:05:42.614000+00:00 | 7697715058071 | bids   |\n",
      "|  655.34 | 77.42 | BNB/USDT:USDT | 2025-06-03 08:05:42.614000+00:00 | 2025-06-03 08:05:42.614000+00:00 | 7697715058071 | bids   |\n"
     ]
    }
   ],
   "source": [
    "import pandas as pd\n",
    "import ccxt\n",
    "from crypto_pandas import CCXTPandasExchange\n",
    "\n",
    "exchange = (\n",
    "    ccxt.binance()\n",
    ")  # Add credentials to send orders {\"apiKey\": \"apiKey\", \"secret\": \"secret\"}\n",
    "pandas_exchange = CCXTPandasExchange(exchange=exchange)\n",
    "symbol = \"BNB/USDT:USDT\"\n",
    "\n",
    "# Fetch OHLCV\n",
    "ohlcv = pandas_exchange.fetch_ohlcv(symbol, timeframe=\"1m\", limit=1000)\n",
    "# Fetch order book\n",
    "order_book = pandas_exchange.fetch_order_book(symbol, limit=1000)\n",
    "print(ohlcv.tail().to_markdown(index=False))\n",
    "print(order_book.tail().to_markdown(index=False))"
   ]
  },
  {
   "cell_type": "markdown",
   "id": "12335d4a-e14d-4170-a922-c2e2461f0648",
   "metadata": {},
   "source": [
    "# Send buy at min price and sell order at max price"
   ]
  },
  {
   "cell_type": "markdown",
   "id": "93d62fdd-fef1-482f-8ace-5bd3abaa01da",
   "metadata": {},
   "source": [
    "Send 10 USD buy and sell orders at min and max price of OHLCV data"
   ]
  },
  {
   "cell_type": "code",
   "execution_count": 2,
   "id": "94e8463a-56c9-4b68-ad73-c4a10832bd5a",
   "metadata": {},
   "outputs": [
    {
     "name": "stdout",
     "output_type": "stream",
     "text": [
      "| side   |   price | symbol        |   notional | type   |\n",
      "|:-------|--------:|:--------------|-----------:|:-------|\n",
      "| buy    |  655.41 | BNB/USDT:USDT |         10 | limit  |\n",
      "| sell   |  673.76 | BNB/USDT:USDT |         10 | limit  |\n"
     ]
    }
   ],
   "source": [
    "orders = pd.DataFrame({\"side\": [\"buy\", \"sell\"]})\n",
    "orders[\"price\"] = [ohlcv[\"low\"].min(), ohlcv[\"high\"].max()]\n",
    "orders[\"symbol\"] = symbol\n",
    "orders[\"notional\"] = 10\n",
    "orders[\"type\"] = \"limit\"\n",
    "print(orders.tail().to_markdown(index=False))"
   ]
  },
  {
   "cell_type": "code",
   "execution_count": null,
   "id": "82190ba6-acdb-47be-bad2-15ccf1ab3d50",
   "metadata": {},
   "outputs": [],
   "source": [
    "response = pandas_exchange.create_orders(orders=orders)\n",
    "print(response.tail().to_markdown(index=False))"
   ]
  }
 ],
 "metadata": {
  "kernelspec": {
   "display_name": "Python 3 (ipykernel)",
   "language": "python",
   "name": "python3"
  },
  "language_info": {
   "codemirror_mode": {
    "name": "ipython",
    "version": 3
   },
   "file_extension": ".py",
   "mimetype": "text/x-python",
   "name": "python",
   "nbconvert_exporter": "python",
   "pygments_lexer": "ipython3",
   "version": "3.12.9"
  }
 },
 "nbformat": 4,
 "nbformat_minor": 5
}
