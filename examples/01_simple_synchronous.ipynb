{
 "cells": [
  {
   "cell_type": "markdown",
   "id": "309b94b4-915a-4932-a27d-6414836b671c",
   "metadata": {},
   "source": [
    "# Example 1: Synchronous data loading"
   ]
  },
  {
   "cell_type": "markdown",
   "id": "34cb41b3-2ea5-4412-892b-17f3dc902a7a",
   "metadata": {},
   "source": [
    "Ensure Crypto-Pandas is installed in your python environment:  `pip install crypto-pandas`"
   ]
  },
  {
   "cell_type": "code",
   "execution_count": null,
   "id": "96e5a912-e98c-410f-992e-d4085f7b5179",
   "metadata": {},
   "outputs": [],
   "source": [
    "!pip install crypto-pandas"
   ]
  },
  {
   "cell_type": "markdown",
   "id": "1c81fc2b-84b1-476f-bf1e-993eacb8caa2",
   "metadata": {},
   "source": [
    "## Import libraries and credentials"
   ]
  },
  {
   "cell_type": "code",
   "execution_count": 1,
   "id": "b1ed68f6-22f6-4b98-8f41-ad4f408ac7c2",
   "metadata": {},
   "outputs": [
    {
     "data": {
      "text/plain": [
       "True"
      ]
     },
     "execution_count": 1,
     "metadata": {},
     "output_type": "execute_result"
    }
   ],
   "source": [
    "import os\n",
    "import pandas as pd\n",
    "import ccxt\n",
    "from crypto_pandas import CCXTPandasExchange\n",
    "from dotenv import load_dotenv\n",
    "\n",
    "load_dotenv()"
   ]
  },
  {
   "cell_type": "markdown",
   "id": "97bb5281-6443-49c2-914a-5af1193b12d7",
   "metadata": {},
   "source": [
    "## Initialize a CCXT Exchange & a CCXTPandasExchange"
   ]
  },
  {
   "cell_type": "code",
   "execution_count": 5,
   "id": "a61a828e-22c3-4103-9a30-85a4806c2955",
   "metadata": {},
   "outputs": [],
   "source": [
    "exchange = ccxt.binance(\n",
    "    {\n",
    "        \"apiKey\": os.getenv(\"SANDBOX_API_KEY\"),\n",
    "        \"secret\": os.getenv(\"SANDBOX_API_SECRET\"),\n",
    "    }\n",
    ")\n",
    "exchange.set_sandbox_mode(True)\n",
    "pandas_exchange = CCXTPandasExchange(exchange=exchange)\n",
    "symbol = \"BNB/USDT:USDT\""
   ]
  },
  {
   "cell_type": "markdown",
   "id": "b4ddae92-bd8c-4615-bf12-2e002eaab7f3",
   "metadata": {},
   "source": [
    "## Load available symbols"
   ]
  },
  {
   "cell_type": "code",
   "execution_count": 5,
   "id": "e6721d5f-540a-4c8e-bbbc-7423a3f58dc7",
   "metadata": {},
   "outputs": [
    {
     "name": "stdout",
     "output_type": "stream",
     "text": [
      "                 id    lowercaseId              symbol base quote settle  \\\n",
      "0            ETHBTC         ethbtc             ETH/BTC  ETH   BTC   None   \n",
      "1            LTCBTC         ltcbtc             LTC/BTC  LTC   BTC   None   \n",
      "2            BNBBTC         bnbbtc             BNB/BTC  BNB   BTC   None   \n",
      "3           BTCUSDT        btcusdt            BTC/USDT  BTC  USDT   None   \n",
      "4           ETHUSDT        ethusdt            ETH/USDT  ETH  USDT   None   \n",
      "...             ...            ...                 ...  ...   ...    ...   \n",
      "2012  BCHUSD_250926  bchusd_250926  BCH/USD:BCH-250926  BCH   USD    BCH   \n",
      "2013  DOTUSD_250926  dotusd_250926  DOT/USD:DOT-250926  DOT   USD    DOT   \n",
      "2014  XRPUSD_250926  xrpusd_250926  XRP/USD:XRP-250926  XRP   USD    XRP   \n",
      "2015  LTCUSD_250926  ltcusd_250926  LTC/USD:LTC-250926  LTC   USD    LTC   \n",
      "2016  BNBUSD_250926  bnbusd_250926  BNB/USD:BNB-250926  BNB   USD    BNB   \n",
      "\n",
      "     baseId quoteId settleId    type  ...  limits_amount.min  \\\n",
      "0       ETH     BTC     None    spot  ...            0.00010   \n",
      "1       LTC     BTC     None    spot  ...            0.00100   \n",
      "2       BNB     BTC     None    spot  ...            0.00100   \n",
      "3       BTC    USDT     None    spot  ...            0.00001   \n",
      "4       ETH    USDT     None    spot  ...            0.00010   \n",
      "...     ...     ...      ...     ...  ...                ...   \n",
      "2012    BCH     USD      BCH  future  ...            1.00000   \n",
      "2013    DOT     USD      DOT  future  ...            1.00000   \n",
      "2014    XRP     USD      XRP  future  ...            1.00000   \n",
      "2015    LTC     USD      LTC  future  ...            1.00000   \n",
      "2016    BNB     USD      BNB  future  ...            1.00000   \n",
      "\n",
      "      limits_amount.max  limits_price.min  limits_price.max  limits_cost.min  \\\n",
      "0              100000.0          0.000010       922327.0000           0.0001   \n",
      "1              100000.0          0.000001       100000.0000           0.0001   \n",
      "2              100000.0          0.000001       100000.0000           0.0001   \n",
      "3                9000.0          0.010000      1000000.0000           5.0000   \n",
      "4                9000.0          0.010000      1000000.0000           5.0000   \n",
      "...                 ...               ...               ...              ...   \n",
      "2012          1000000.0         13.930000        23222.7600              NaN   \n",
      "2013          1000000.0          0.107000          179.5420              NaN   \n",
      "2014          1000000.0          0.065500          109.1734              NaN   \n",
      "2015          1000000.0          2.600000         4338.3600              NaN   \n",
      "2016          1000000.0         19.189000        31982.5050              NaN   \n",
      "\n",
      "     limits_cost.max  limits_market.min  limits_market.max marginModes_cross  \\\n",
      "0          9000000.0                0.0        1156.532745             False   \n",
      "1          9000000.0                0.0        2200.429874             False   \n",
      "2          9000000.0                0.0        1743.260389             False   \n",
      "3          9000000.0                0.0         115.461511             False   \n",
      "4          9000000.0                0.0        3330.821796             False   \n",
      "...              ...                ...                ...               ...   \n",
      "2012             NaN                1.0      100000.000000              True   \n",
      "2013             NaN                1.0       10000.000000              True   \n",
      "2014             NaN                1.0      100000.000000              True   \n",
      "2015             NaN                1.0      100000.000000              True   \n",
      "2016             NaN                1.0      100000.000000              True   \n",
      "\n",
      "     marginModes_isolated  \n",
      "0                   False  \n",
      "1                   False  \n",
      "2                   False  \n",
      "3                   False  \n",
      "4                   False  \n",
      "...                   ...  \n",
      "2012                 True  \n",
      "2013                 True  \n",
      "2014                 True  \n",
      "2015                 True  \n",
      "2016                 True  \n",
      "\n",
      "[2017 rows x 49 columns]\n"
     ]
    }
   ],
   "source": [
    "symbols = pandas_exchange.load_markets()\n",
    "print(symbols)"
   ]
  },
  {
   "cell_type": "markdown",
   "id": "3f6b69a8-5196-42ed-ae35-413d165888ba",
   "metadata": {},
   "source": [
    "## Fetch OHLCV"
   ]
  },
  {
   "cell_type": "code",
   "execution_count": 6,
   "id": "2da1a80f",
   "metadata": {},
   "outputs": [
    {
     "name": "stdout",
     "output_type": "stream",
     "text": [
      "| timestamp                 |   open |   high |    low |   close |   volume | symbol        |\n",
      "|:--------------------------|-------:|-------:|-------:|--------:|---------:|:--------------|\n",
      "| 2025-06-19 12:34:00+00:00 | 642.03 | 642.05 | 641.89 |  641.89 |    58.79 | BNB/USDT:USDT |\n",
      "| 2025-06-19 12:35:00+00:00 | 641.89 | 642.14 | 641.88 |  642.14 |    49.52 | BNB/USDT:USDT |\n",
      "| 2025-06-19 12:36:00+00:00 | 642.08 | 642.31 | 642.08 |  642.26 |     3.71 | BNB/USDT:USDT |\n",
      "| 2025-06-19 12:37:00+00:00 | 642.27 | 642.28 | 641.55 |  642.07 |   101.05 | BNB/USDT:USDT |\n",
      "| 2025-06-19 12:38:00+00:00 | 642.07 | 642.11 | 641.97 |  642.11 |     1.14 | BNB/USDT:USDT |\n"
     ]
    }
   ],
   "source": [
    "ohlcv = pandas_exchange.fetch_ohlcv(symbol=symbol, timeframe=\"1m\", limit=1000)\n",
    "print(ohlcv.tail().to_markdown(index=False))"
   ]
  },
  {
   "cell_type": "markdown",
   "id": "d5102cc1-9021-4981-8951-d63df7e056d1",
   "metadata": {},
   "source": [
    "## Fetch Order Book"
   ]
  },
  {
   "cell_type": "code",
   "execution_count": 7,
   "id": "ac1842a1-8f62-432e-b0b1-dcac13d99f81",
   "metadata": {},
   "outputs": [
    {
     "name": "stdout",
     "output_type": "stream",
     "text": [
      "|   price |    qty | symbol        | timestamp                        | datetime                         |       nonce | side   |\n",
      "|--------:|-------:|:--------------|:---------------------------------|:---------------------------------|------------:|:-------|\n",
      "|    10   | 694.5  | BNB/USDT:USDT | 2025-06-19 12:38:47.051000+00:00 | 2025-06-19 12:38:47.051000+00:00 | 53658892204 | bids   |\n",
      "|     8.2 |   2    | BNB/USDT:USDT | 2025-06-19 12:38:47.051000+00:00 | 2025-06-19 12:38:47.051000+00:00 | 53658892204 | bids   |\n",
      "|     8.1 |   4    | BNB/USDT:USDT | 2025-06-19 12:38:47.051000+00:00 | 2025-06-19 12:38:47.051000+00:00 | 53658892204 | bids   |\n",
      "|     8   |  22.69 | BNB/USDT:USDT | 2025-06-19 12:38:47.051000+00:00 | 2025-06-19 12:38:47.051000+00:00 | 53658892204 | bids   |\n",
      "|     7   |  14.28 | BNB/USDT:USDT | 2025-06-19 12:38:47.051000+00:00 | 2025-06-19 12:38:47.051000+00:00 | 53658892204 | bids   |\n"
     ]
    }
   ],
   "source": [
    "order_book = pandas_exchange.fetch_order_book(symbol=symbol, limit=1000)\n",
    "print(order_book.tail().to_markdown(index=False))"
   ]
  },
  {
   "cell_type": "markdown",
   "id": "e04ce387-ab63-4b7b-8497-ee6e9ef2f170",
   "metadata": {},
   "source": [
    "## Fetch Bids & Asks (All Symbols)"
   ]
  },
  {
   "cell_type": "code",
   "execution_count": 8,
   "id": "bd7c709c",
   "metadata": {},
   "outputs": [
    {
     "name": "stdout",
     "output_type": "stream",
     "text": [
      "| symbol      | timestamp   | datetime   | high   | low   |      bid |   bidVolume |       ask |   askVolume |   vwap |   open |   close |   last |   previousClose |   change |   percentage |   average |   baseVolume |   quoteVolume |   markPrice |   indexPrice |\n",
      "|:------------|:------------|:-----------|:-------|:------|---------:|------------:|----------:|------------:|-------:|-------:|--------:|-------:|----------------:|---------:|-------------:|----------:|-------------:|--------------:|------------:|-------------:|\n",
      "| SOPH/USDC   | NaT         | NaT        |        |       | 0.03949  |    213092   | 0.03952   |    196736   |    nan |    nan |     nan |    nan |             nan |      nan |          nan |       nan |          nan |           nan |         nan |          nan |\n",
      "| SOPH/BNB    | NaT         | NaT        |        |       | 6.16e-05 |    260390   | 6.161e-05 |    302062   |    nan |    nan |     nan |    nan |             nan |      nan |          nan |       nan |          nan |           nan |         nan |          nan |\n",
      "| SOPH/FDUSD  | NaT         | NaT        |        |       | 0.03957  |    192318   | 0.03965   |    225852   |    nan |    nan |     nan |    nan |             nan |      nan |          nan |       nan |          nan |           nan |         nan |          nan |\n",
      "| SOPH/TRY    | NaT         | NaT        |        |       | 1.563    |     10781   | 1.564     |     10058   |    nan |    nan |     nan |    nan |             nan |      nan |          nan |       nan |          nan |           nan |         nan |          nan |\n",
      "| MUBARAK/TRY | NaT         | NaT        |        |       | 1.337    |     12445.8 | 1.34      |     12126.9 |    nan |    nan |     nan |    nan |             nan |      nan |          nan |       nan |          nan |           nan |         nan |          nan |\n"
     ]
    }
   ],
   "source": [
    "bids_asks = pandas_exchange.fetch_bids_asks()\n",
    "print(bids_asks.tail().to_markdown(index=False))"
   ]
  },
  {
   "cell_type": "markdown",
   "id": "df6f9254-43a1-42c8-853d-82b3d7c9e8fb",
   "metadata": {},
   "source": [
    "## Fetch Trades"
   ]
  },
  {
   "cell_type": "code",
   "execution_count": 7,
   "id": "e39dcb0a-d32b-439a-9a97-515e1692a5bf",
   "metadata": {},
   "outputs": [
    {
     "name": "stdout",
     "output_type": "stream",
     "text": [
      "| timestamp                        | datetime                         | symbol        |       id | order   | type   | side   | takerOrMaker   |   price |   amount |       cost | fees   | fee_cost   | fee_currency   |\n",
      "|:---------------------------------|:---------------------------------|:--------------|---------:|:--------|:-------|:-------|:---------------|--------:|---------:|-----------:|:-------|:-----------|:---------------|\n",
      "| 2025-06-19 10:26:21.333000+00:00 | 2025-06-19 10:26:21.333000+00:00 | BNB/USDT:USDT | 45397270 |         |        | buy    |                | 645.16  |    10.15 | 6548.37    | []     |            |                |\n",
      "| 2025-06-19 10:26:21.333000+00:00 | 2025-06-19 10:26:21.333000+00:00 | BNB/USDT:USDT | 45397271 |         |        | buy    |                | 645.18  |     3.71 | 2393.62    | []     |            |                |\n",
      "| 2025-06-19 10:26:21.354000+00:00 | 2025-06-19 10:26:21.354000+00:00 | BNB/USDT:USDT | 45397272 |         |        | buy    |                | 645.2   |     1.71 | 1103.29    | []     |            |                |\n",
      "| 2025-06-19 10:26:21.354000+00:00 | 2025-06-19 10:26:21.354000+00:00 | BNB/USDT:USDT | 45397273 |         |        | buy    |                | 645.21  |     3.7  | 2387.28    | []     |            |                |\n",
      "| 2025-06-19 10:26:21.358000+00:00 | 2025-06-19 10:26:21.358000+00:00 | BNB/USDT:USDT | 45397274 |         |        | buy    |                | 645.218 |     0.01 |    6.45218 | []     |            |                |\n"
     ]
    }
   ],
   "source": [
    "trades = pandas_exchange.fetch_trades(symbol=symbol, limit=1000)\n",
    "print(trades.tail().to_markdown(index=False))"
   ]
  },
  {
   "cell_type": "markdown",
   "id": "45125124-66e8-4e52-b250-2624da856291",
   "metadata": {},
   "source": [
    "## Fetch Current Funding Rates (All Perpetuals)"
   ]
  },
  {
   "cell_type": "code",
   "execution_count": 8,
   "id": "078280aa",
   "metadata": {},
   "outputs": [
    {
     "name": "stdout",
     "output_type": "stream",
     "text": [
      "| symbol            |   markPrice |   indexPrice |   interestRate |   estimatedSettlePrice | timestamp                        | datetime                         |   fundingRate | fundingTimestamp          | fundingDatetime           |   nextFundingRate | nextFundingTimestamp   | nextFundingDatetime   |   previousFundingRate | previousFundingTimestamp   | previousFundingDatetime   | interval   |\n",
      "|:------------------|------------:|-------------:|---------------:|-----------------------:|:---------------------------------|:---------------------------------|--------------:|:--------------------------|:--------------------------|------------------:|:-----------------------|:----------------------|----------------------:|:---------------------------|:--------------------------|:-----------|\n",
      "| AVAAI/USDT:USDT   |   0.0298814 |    0.0297855 |         0.0001 |              0.0298383 | 2025-06-19 10:26:26.001000+00:00 | 2025-06-19 10:26:26.001000+00:00 |       0.01125 | 2025-06-19 16:00:00+00:00 | 2025-06-19 16:00:00+00:00 |               nan | NaT                    |                       |                   nan | NaT                        | NaT                       |            |\n",
      "| MASK/USDT:USDT    |   1.32895   |    1.32886   |         0.0001 |              1.33217   | 2025-06-19 10:26:26.001000+00:00 | 2025-06-19 10:26:26.001000+00:00 |       0.0001  | 2025-06-19 16:00:00+00:00 | 2025-06-19 16:00:00+00:00 |               nan | NaT                    |                       |                   nan | NaT                        | NaT                       |            |\n",
      "| VIRTUAL/USDT:USDT |   1.72675   |    1.72717   |         0.0001 |              1.72648   | 2025-06-19 10:26:26.001000+00:00 | 2025-06-19 10:26:26.001000+00:00 |       0.0001  | 2025-06-19 16:00:00+00:00 | 2025-06-19 16:00:00+00:00 |               nan | NaT                    |                       |                   nan | NaT                        | NaT                       |            |\n",
      "| VVV/USDT:USDT     |   2.89788   |    2.89708   |         0.0001 |              2.88963   | 2025-06-19 10:26:26.001000+00:00 | 2025-06-19 10:26:26.001000+00:00 |       0.0001  | 2025-06-19 16:00:00+00:00 | 2025-06-19 16:00:00+00:00 |               nan | NaT                    |                       |                   nan | NaT                        | NaT                       |            |\n",
      "| GALA/USDT:USDT    |   0.01443   |    0.0144312 |         0.0001 |              0.0144186 | 2025-06-19 10:26:26.001000+00:00 | 2025-06-19 10:26:26.001000+00:00 |       0.0001  | 2025-06-19 16:00:00+00:00 | 2025-06-19 16:00:00+00:00 |               nan | NaT                    |                       |                   nan | NaT                        | NaT                       |            |\n"
     ]
    }
   ],
   "source": [
    "funding_rates = pandas_exchange.fetch_funding_rates()\n",
    "print(funding_rates.tail().to_markdown(index=False))"
   ]
  },
  {
   "cell_type": "markdown",
   "id": "9cdd8e25-fa20-4690-a6f6-e9591a41e7b5",
   "metadata": {},
   "source": [
    "## Fetch Historical Funding Rate"
   ]
  },
  {
   "cell_type": "code",
   "execution_count": 9,
   "id": "c1ec9b4a",
   "metadata": {},
   "outputs": [
    {
     "name": "stdout",
     "output_type": "stream",
     "text": [
      "| symbol        |   fundingRate | timestamp                        | datetime                         |\n",
      "|:--------------|--------------:|:---------------------------------|:---------------------------------|\n",
      "| BNB/USDT:USDT |    0          | 2025-06-18 00:00:00+00:00        | 2025-06-18 00:00:00+00:00        |\n",
      "| BNB/USDT:USDT |    0          | 2025-06-18 08:00:00+00:00        | 2025-06-18 08:00:00+00:00        |\n",
      "| BNB/USDT:USDT |   -0.00013375 | 2025-06-18 16:00:00.001000+00:00 | 2025-06-18 16:00:00.001000+00:00 |\n",
      "| BNB/USDT:USDT |    0          | 2025-06-19 00:00:00+00:00        | 2025-06-19 00:00:00+00:00        |\n",
      "| BNB/USDT:USDT |    0          | 2025-06-19 08:00:00+00:00        | 2025-06-19 08:00:00+00:00        |\n"
     ]
    }
   ],
   "source": [
    "funding_rate_history = pandas_exchange.fetch_funding_rate_history(\n",
    "    symbol=symbol, limit=1000\n",
    ")\n",
    "print(funding_rate_history.tail().to_markdown(index=False))"
   ]
  },
  {
   "cell_type": "markdown",
   "id": "12335d4a-e14d-4170-a922-c2e2461f0648",
   "metadata": {},
   "source": [
    "## Send Multiple Orders"
   ]
  },
  {
   "cell_type": "markdown",
   "id": "93d62fdd-fef1-482f-8ace-5bd3abaa01da",
   "metadata": {},
   "source": [
    "Send 7 USD buy and sell orders at min and max price of OHLCV data."
   ]
  },
  {
   "cell_type": "markdown",
   "id": "06c55a9e-a669-479b-a561-a1330f7a6a9b",
   "metadata": {},
   "source": [
    "Two orders are out-of-the-money and two are in-the-money and will create trades."
   ]
  },
  {
   "cell_type": "code",
   "execution_count": 13,
   "id": "94e8463a-56c9-4b68-ad73-c4a10832bd5a",
   "metadata": {},
   "outputs": [
    {
     "name": "stdout",
     "output_type": "stream",
     "text": [
      "| side   |   price | symbol        |   notional | type   |\n",
      "|:-------|--------:|:--------------|-----------:|:-------|\n",
      "| buy    | 631.151 | BNB/USDT:USDT |          7 | limit  |\n",
      "| buy    | 650.472 | BNB/USDT:USDT |          7 | limit  |\n",
      "| sell   | 650.472 | BNB/USDT:USDT |          7 | limit  |\n",
      "| sell   | 638.33  | BNB/USDT:USDT |          7 | limit  |\n"
     ]
    }
   ],
   "source": [
    "orders = pd.DataFrame({\"side\": [\"buy\", \"buy\", \"sell\", \"sell\"]})\n",
    "orders[\"price\"] = [\n",
    "    ohlcv[\"low\"].min(),\n",
    "    ohlcv[\"high\"].max(),\n",
    "    ohlcv[\"high\"].max(),\n",
    "    ohlcv[\"high\"].min(),\n",
    "]\n",
    "orders[\"symbol\"] = symbol\n",
    "orders[\"notional\"] = 7\n",
    "orders[\"type\"] = \"limit\"\n",
    "print(orders.tail().to_markdown(index=False))"
   ]
  },
  {
   "cell_type": "code",
   "execution_count": 14,
   "id": "904b8014-0869-44e2-bc51-f3be5d628a26",
   "metadata": {},
   "outputs": [
    {
     "name": "stdout",
     "output_type": "stream",
     "text": [
      "|        id | clientOrderId                    | timestamp                        | datetime                         |   lastTradeTimestamp |   lastUpdateTimestamp | symbol        | type   | timeInForce   | postOnly   | reduceOnly   | side   |   price | triggerPrice   |   amount |   cost |   average |   filled |   remaining | status   | fee   | trades   | fees   | stopPrice   | takeProfitPrice   | stopLossPrice   |\n",
      "|----------:|:---------------------------------|:---------------------------------|:---------------------------------|---------------------:|----------------------:|:--------------|:-------|:--------------|:-----------|:-------------|:-------|--------:|:---------------|---------:|-------:|----------:|---------:|------------:|:---------|:------|:---------|:-------|:------------|:------------------|:----------------|\n",
      "| 530162821 | x-cvBPrNm9b9df1fdc856840a81d32cf | 2025-06-19 13:04:08.821000+00:00 | 2025-06-19 13:04:08.821000+00:00 |          1.75034e+12 |         1750338248821 | BNB/USDT:USDT | limit  | GTC           | False      | False        | buy    | 650.472 |                |     0.01 | 6.4217 |    642.17 |     0.01 |        0    | closed   |       | []       | []     |             |                   |                 |\n",
      "| 530162822 | x-cvBPrNm97c27a63f9f3c7a077fe625 | 2025-06-19 13:04:08.821000+00:00 | 2025-06-19 13:04:08.821000+00:00 |        nan           |         1750338248821 | BNB/USDT:USDT | limit  | GTC           | False      | False        | sell   | 650.472 |                |     0.01 | 0      |    nan    |     0    |        0.01 | open     |       | []       | []     |             |                   |                 |\n",
      "| 530162823 | x-cvBPrNm99ba2c25a46c8352a14278d | 2025-06-19 13:04:08.822000+00:00 | 2025-06-19 13:04:08.822000+00:00 |        nan           |         1750338248822 | BNB/USDT:USDT | limit  | GTC           | False      | False        | buy    | 631.151 |                |     0.01 | 0      |    nan    |     0    |        0.01 | open     |       | []       | []     |             |                   |                 |\n",
      "| 530162824 | x-cvBPrNm92c2d4c5ba09eaa614ab8c8 | 2025-06-19 13:04:08.822000+00:00 | 2025-06-19 13:04:08.822000+00:00 |          1.75034e+12 |         1750338248822 | BNB/USDT:USDT | limit  | GTC           | False      | False        | sell   | 638.33  |                |     0.01 | 6.4216 |    642.16 |     0.01 |        0    | closed   |       | []       | []     |             |                   |                 |\n"
     ]
    }
   ],
   "source": [
    "create_response = pandas_exchange.create_orders(orders=orders)\n",
    "print(create_response.tail().to_markdown(index=False))"
   ]
  },
  {
   "cell_type": "markdown",
   "id": "f3da60ab-e3a1-45f7-b3d7-e9f3d22f43e4",
   "metadata": {},
   "source": [
    "## Fetch My Trades"
   ]
  },
  {
   "cell_type": "code",
   "execution_count": 15,
   "id": "755ed820-347d-4d4d-aa73-117aef05a3d8",
   "metadata": {},
   "outputs": [
    {
     "name": "stdout",
     "output_type": "stream",
     "text": [
      "| timestamp                        | datetime                         | symbol        |       id |     order | type   | side   | takerOrMaker   |   price |   amount |   cost | fees                                       | fee_currency   |   fee_cost |\n",
      "|:---------------------------------|:---------------------------------|:--------------|---------:|----------:|:-------|:-------|:---------------|--------:|---------:|-------:|:-------------------------------------------|:---------------|-----------:|\n",
      "| 2025-06-19 10:26:47.139000+00:00 | 2025-06-19 10:26:47.139000+00:00 | BNB/USDT:USDT | 61855802 | 530078655 |        | sell   | taker          |  645.23 |     0.01 | 6.4523 | [{'currency': 'USDT', 'cost': 0.00258092}] | USDT           | 0.00258092 |\n",
      "| 2025-06-19 10:26:47.139000+00:00 | 2025-06-19 10:26:47.139000+00:00 | BNB/USDT:USDT | 61855803 | 530078656 |        | buy    | taker          |  645.24 |     0.01 | 6.4524 | [{'currency': 'USDT', 'cost': 0.00258096}] | USDT           | 0.00258096 |\n",
      "| 2025-06-19 13:04:08.821000+00:00 | 2025-06-19 13:04:08.821000+00:00 | BNB/USDT:USDT | 61868372 | 530162821 |        | buy    | taker          |  642.17 |     0.01 | 6.4217 | [{'currency': 'USDT', 'cost': 0.00256867}] | USDT           | 0.00256867 |\n",
      "| 2025-06-19 13:04:08.822000+00:00 | 2025-06-19 13:04:08.822000+00:00 | BNB/USDT:USDT | 61868373 | 530162824 |        | sell   | taker          |  642.16 |     0.01 | 6.4216 | [{'currency': 'USDT', 'cost': 0.00256864}] | USDT           | 0.00256864 |\n"
     ]
    }
   ],
   "source": [
    "my_trades = pandas_exchange.fetch_my_trades(symbol=symbol, limit=1000)\n",
    "print(my_trades.tail().to_markdown(index=False))"
   ]
  },
  {
   "cell_type": "markdown",
   "id": "a5d9852e-7daf-4db8-a53e-c1187072f5c6",
   "metadata": {},
   "source": [
    "## Fetch Open Orders"
   ]
  },
  {
   "cell_type": "code",
   "execution_count": 16,
   "id": "6812978d",
   "metadata": {},
   "outputs": [
    {
     "name": "stdout",
     "output_type": "stream",
     "text": [
      "|        id | clientOrderId                    | timestamp                        | datetime                         | lastTradeTimestamp   |   lastUpdateTimestamp | symbol        | type   | timeInForce   | postOnly   | reduceOnly   | side   |   price | triggerPrice   |   amount |   cost |   average |   filled |   remaining | status   | fee   | trades   | fees   | stopPrice   | takeProfitPrice   | stopLossPrice   |\n",
      "|----------:|:---------------------------------|:---------------------------------|:---------------------------------|:---------------------|----------------------:|:--------------|:-------|:--------------|:-----------|:-------------|:-------|--------:|:---------------|---------:|-------:|----------:|---------:|------------:|:---------|:------|:---------|:-------|:------------|:------------------|:----------------|\n",
      "| 530162822 | x-cvBPrNm97c27a63f9f3c7a077fe625 | 2025-06-19 13:04:08.821000+00:00 | 2025-06-19 13:04:08.821000+00:00 |                      |         1750338248821 | BNB/USDT:USDT | limit  | GTC           | False      | False        | sell   | 650.472 |                |     0.01 |      0 |       nan |        0 |        0.01 | open     |       | []       | []     |             |                   |                 |\n",
      "| 530162823 | x-cvBPrNm99ba2c25a46c8352a14278d | 2025-06-19 13:04:08.822000+00:00 | 2025-06-19 13:04:08.822000+00:00 |                      |         1750338248822 | BNB/USDT:USDT | limit  | GTC           | False      | False        | buy    | 631.151 |                |     0.01 |      0 |       nan |        0 |        0.01 | open     |       | []       | []     |             |                   |                 |\n"
     ]
    }
   ],
   "source": [
    "open_orders = pandas_exchange.fetch_open_orders(symbol=symbol)\n",
    "print(open_orders.tail().to_markdown(index=False))"
   ]
  },
  {
   "cell_type": "markdown",
   "id": "6273760f-6f9b-4a99-92ae-5d6294a3890b",
   "metadata": {},
   "source": [
    "## Edit Open Orders"
   ]
  },
  {
   "cell_type": "markdown",
   "id": "0afe4b97-25e0-472c-90ba-29a4549a1f9a",
   "metadata": {},
   "source": [
    "Double volume of orders. Same price."
   ]
  },
  {
   "cell_type": "code",
   "execution_count": 17,
   "id": "82190ba6-acdb-47be-bad2-15ccf1ab3d50",
   "metadata": {},
   "outputs": [
    {
     "name": "stderr",
     "output_type": "stream",
     "text": [
      "C:\\Users\\lucas\\anaconda3\\envs\\crypto-pandas\\Lib\\site-packages\\crypto_pandas\\utils\\pandas_utils.py:192: SettingWithCopyWarning: \n",
      "A value is trying to be set on a copy of a slice from a DataFrame.\n",
      "Try using .loc[row_indexer,col_indexer] = value instead\n",
      "\n",
      "See the caveats in the documentation: https://pandas.pydata.org/pandas-docs/stable/user_guide/indexing.html#returning-a-view-versus-a-copy\n",
      "  orders[\"notional\"] = orders[\"amount\"] * orders[\"price\"]\n"
     ]
    },
    {
     "name": "stdout",
     "output_type": "stream",
     "text": [
      "|        id | clientOrderId                    | timestamp                        | datetime                         | lastTradeTimestamp   |   lastUpdateTimestamp | symbol        | type   | timeInForce   | postOnly   | reduceOnly   | side   |   price | triggerPrice   |   amount |   cost |   average |   filled |   remaining | status   | fee   | trades   | fees   | stopPrice   | takeProfitPrice   | stopLossPrice   |\n",
      "|----------:|:---------------------------------|:---------------------------------|:---------------------------------|:---------------------|----------------------:|:--------------|:-------|:--------------|:-----------|:-------------|:-------|--------:|:---------------|---------:|-------:|----------:|---------:|------------:|:---------|:------|:---------|:-------|:------------|:------------------|:----------------|\n",
      "| 530162822 | x-cvBPrNm97c27a63f9f3c7a077fe625 | 2025-06-19 13:05:30.327000+00:00 | 2025-06-19 13:05:30.327000+00:00 |                      |         1750338330327 | BNB/USDT:USDT | limit  | GTC           | False      | False        | sell   | 650.472 |                |     0.02 |      0 |       nan |        0 |        0.02 | open     |       | []       | []     |             |                   |                 |\n",
      "| 530162823 | x-cvBPrNm99ba2c25a46c8352a14278d | 2025-06-19 13:05:30.327000+00:00 | 2025-06-19 13:05:30.327000+00:00 |                      |         1750338330327 | BNB/USDT:USDT | limit  | GTC           | False      | False        | buy    | 631.151 |                |     0.02 |      0 |       nan |        0 |        0.02 | open     |       | []       | []     |             |                   |                 |\n"
     ]
    }
   ],
   "source": [
    "open_orders[\"amount\"] *= 2\n",
    "edit_response = pandas_exchange.edit_orders(\n",
    "    orders=open_orders[[\"id\", \"side\", \"price\", \"amount\", \"type\", \"symbol\"]]\n",
    ")\n",
    "print(edit_response.tail().to_markdown(index=False))"
   ]
  },
  {
   "cell_type": "markdown",
   "id": "e0e0a897-e9e6-4a84-8ae8-38436a73541c",
   "metadata": {},
   "source": [
    "## Cancel All Orders"
   ]
  },
  {
   "cell_type": "code",
   "execution_count": 18,
   "id": "fa945448-d559-4df6-aeb3-c78874105c58",
   "metadata": {},
   "outputs": [
    {
     "name": "stdout",
     "output_type": "stream",
     "text": [
      "| fees   | id   | clientOrderId   | timestamp   | datetime   | symbol   | type   | side   | lastTradeTimestamp   | lastUpdateTimestamp   | price   | amount   | cost   |   average | filled   | remaining   | timeInForce   | postOnly   | trades   | reduceOnly   | stopPrice   | triggerPrice   | takeProfitPrice   | stopLossPrice   | status   | fee   |\n",
      "|:-------|:-----|:----------------|:------------|:-----------|:---------|:-------|:-------|:---------------------|:----------------------|:--------|:---------|:-------|----------:|:---------|:------------|:--------------|:-----------|:---------|:-------------|:------------|:---------------|:------------------|:----------------|:---------|:------|\n",
      "| []     |      |                 | NaT         | NaT        |          |        |        |                      |                       |         |          |        |       nan |          |             |               |            | []       |              |             |                |                   |                 |          |       |\n"
     ]
    }
   ],
   "source": [
    "cancel_response = pandas_exchange.cancel_all_orders(symbol=symbol)\n",
    "print(cancel_response.tail().to_markdown(index=False))"
   ]
  },
  {
   "cell_type": "code",
   "execution_count": 2,
   "id": "8b198796-f824-44f3-897e-b3265a533c8d",
   "metadata": {},
   "outputs": [],
   "source": [
    "orders = pd.DataFrame([\n",
    "    {\n",
    "        \"symbol\": \"BTC/USDT:USDT\",\n",
    "        \"side\": \"buy\",\n",
    "        \"type\": \"limit\",\n",
    "        \"notional\": 300,\n",
    "        \"price\": 105000,\n",
    "        \"reduceOnly\": False,\n",
    "    },\n",
    "    {\n",
    "        \"symbol\": \"ETH/USDT:USDT\",\n",
    "        \"side\": \"sell\",\n",
    "        \"type\": \"market\",\n",
    "        \"notional\": 400,\n",
    "        \"price\": 2000,\n",
    "    }\n",
    "])"
   ]
  },
  {
   "cell_type": "code",
   "execution_count": 15,
   "id": "ec1937cb-2026-4c2e-9214-d3091d0a86c5",
   "metadata": {},
   "outputs": [
    {
     "name": "stdout",
     "output_type": "stream",
     "text": [
      "|         id | clientOrderId                    | timestamp                        | datetime                         | lastTradeTimestamp   |   lastUpdateTimestamp | symbol        | type   | timeInForce   | postOnly   | reduceOnly   | side   |   price | triggerPrice   |   amount |   cost |   average |   filled |   remaining | status   | fee   | trades   | fees   | stopPrice   | takeProfitPrice   | stopLossPrice   |\n",
      "|-----------:|:---------------------------------|:---------------------------------|:---------------------------------|:---------------------|----------------------:|:--------------|:-------|:--------------|:-----------|:-------------|:-------|--------:|:---------------|---------:|-------:|----------:|---------:|------------:|:---------|:------|:---------|:-------|:------------|:------------------|:----------------|\n",
      "| 5188234563 | x-cvBPrNm9bcca946b20444708610ef6 | 2025-07-03 09:16:43.896000+00:00 | 2025-07-03 09:16:43.896000+00:00 |                      |         1751534203896 | BTC/USDT:USDT | limit  | GTC           | False      | False        | buy    |  105000 |                |    0.003 |      0 |       nan |        0 |       0.003 | open     |       | []       | []     |             |                   |                 |\n",
      "| 5188236127 | x-cvBPrNm91fc1e919c01e4897e12cae | 2025-07-03 09:17:22.299000+00:00 | 2025-07-03 09:17:22.299000+00:00 |                      |         1751534242299 | BTC/USDT:USDT | limit  | GTC           | False      | False        | buy    |  105000 |                |    0.003 |      0 |       nan |        0 |       0.003 | open     |       | []       | []     |             |                   |                 |\n",
      "\n"
     ]
    }
   ],
   "source": [
    "open_orders = pandas_exchange.fetch_open_orders(symbol=\"BTC/USDT:USDT\")\n",
    "closed_orders = pandas_exchange.fetch_closed_orders(symbol=\"BTC/USDT:USDT\")\n",
    "trades = pandas_exchange.fetch_my_trades(symbol=\"BTC/USDT:USDT\")\n",
    "print(open_orders.to_markdown(index=False))\n",
    "print(trades.to_markdown(index=False))"
   ]
  },
  {
   "cell_type": "code",
   "execution_count": 21,
   "id": "191627ef-864a-4d3f-a78e-93ee503a1525",
   "metadata": {},
   "outputs": [
    {
     "name": "stdout",
     "output_type": "stream",
     "text": [
      "|         id | clientOrderId                    | timestamp                        | datetime                         | lastTradeTimestamp   |   lastUpdateTimestamp | symbol        | type   | timeInForce   | postOnly   | reduceOnly   | side   |   price | triggerPrice   |   amount |   cost |   average |   filled |   remaining | status   | fee   | trades   | fees   | stopPrice   | takeProfitPrice   | stopLossPrice   |\n",
      "|-----------:|:---------------------------------|:---------------------------------|:---------------------------------|:---------------------|----------------------:|:--------------|:-------|:--------------|:-----------|:-------------|:-------|--------:|:---------------|---------:|-------:|----------:|---------:|------------:|:---------|:------|:---------|:-------|:------------|:------------------|:----------------|\n",
      "| 5188234563 | x-cvBPrNm9bcca946b20444708610ef6 | 2025-07-03 09:24:01.760000+00:00 | 2025-07-03 09:24:01.760000+00:00 |                      |         1751534641760 | BTC/USDT:USDT | limit  | GTC           | False      | False        | buy    |  105000 |                |    0.002 |      0 |       nan |        0 |       0.002 | canceled |       | []       | []     |             |                   |                 |\n",
      "| 5188236127 | x-cvBPrNm91fc1e919c01e4897e12cae | 2025-07-03 09:24:01.760000+00:00 | 2025-07-03 09:24:01.760000+00:00 |                      |         1751534641760 | BTC/USDT:USDT | limit  | GTC           | False      | False        | buy    |  105000 |                |    0.002 |      0 |       nan |        0 |       0.002 | canceled |       | []       | []     |             |                   |                 |\n"
     ]
    }
   ],
   "source": [
    "response = pandas_exchange.cancel_orders(ids=open_orders[\"id\"].tolist(), symbol=\"BTC/USDT:USDT\")\n",
    "print(response.to_markdown(index=False))"
   ]
  },
  {
   "cell_type": "code",
   "execution_count": 24,
   "id": "47270ff3-f998-4a74-a21c-37242b6fff2f",
   "metadata": {},
   "outputs": [
    {
     "name": "stdout",
     "output_type": "stream",
     "text": [
      "| fees   | id   | clientOrderId   | timestamp   | datetime   | symbol   | type   | side   | lastTradeTimestamp   | lastUpdateTimestamp   | price   | amount   | cost   |   average | filled   | remaining   | timeInForce   | postOnly   | trades   | reduceOnly   | stopPrice   | triggerPrice   | takeProfitPrice   | stopLossPrice   | status   | fee   |\n",
      "|:-------|:-----|:----------------|:------------|:-----------|:---------|:-------|:-------|:---------------------|:----------------------|:--------|:---------|:-------|----------:|:---------|:------------|:--------------|:-----------|:---------|:-------------|:------------|:---------------|:------------------|:----------------|:---------|:------|\n",
      "| []     |      |                 | NaT         | NaT        |          |        |        |                      |                       |         |          |        |       nan |          |             |               |            | []       |              |             |                |                   |                 |          |       |\n"
     ]
    }
   ],
   "source": [
    "response = pandas_exchange.cancel_all_orders(symbol=\"BTC/USDT:USDT\")\n",
    "print(response.to_markdown(index=False))"
   ]
  },
  {
   "cell_type": "code",
   "execution_count": null,
   "id": "1f197c1e-830b-482c-ad87-9318f7e9a806",
   "metadata": {},
   "outputs": [],
   "source": []
  }
 ],
 "metadata": {
  "kernelspec": {
   "display_name": "Python 3 (ipykernel)",
   "language": "python",
   "name": "python3"
  },
  "language_info": {
   "codemirror_mode": {
    "name": "ipython",
    "version": 3
   },
   "file_extension": ".py",
   "mimetype": "text/x-python",
   "name": "python",
   "nbconvert_exporter": "python",
   "pygments_lexer": "ipython3",
   "version": "3.12.9"
  }
 },
 "nbformat": 4,
 "nbformat_minor": 5
}
