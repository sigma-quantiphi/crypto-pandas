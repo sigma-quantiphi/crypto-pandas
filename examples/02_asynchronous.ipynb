{
 "cells": [
  {
   "cell_type": "markdown",
   "id": "309b94b4-915a-4932-a27d-6414836b671c",
   "metadata": {},
   "source": [
    "# Example 2: Load OHLCV, orderbook, and public trades asynchronously"
   ]
  },
  {
   "cell_type": "markdown",
   "id": "15fc79cf-b0eb-4d72-a3a2-c54b4ea2ea5b",
   "metadata": {},
   "source": [
    "Cannot be run inside of Jupyter notebook. Copy/paste this file into .py file."
   ]
  },
  {
   "cell_type": "code",
   "execution_count": null,
   "id": "82190ba6-acdb-47be-bad2-15ccf1ab3d50",
   "metadata": {},
   "outputs": [],
   "source": [
    "import asyncio\n",
    "import ccxt.pro as ccxt\n",
    "from crypto_pandas import AsyncCCXTPandasExchange\n",
    "\n",
    "exchange = ccxt.binance()\n",
    "pandas_exchange = AsyncCCXTPandasExchange(exchange=exchange)\n",
    "symbol = \"BNB/USDT:USDT\"\n",
    "\n",
    "\n",
    "async def main():\n",
    "    ohlcv = await pandas_exchange.fetch_ohlcv(symbol, timeframe=\"1m\", limit=1000)\n",
    "    order_book = await pandas_exchange.fetch_order_book(symbol, limit=1000)\n",
    "    latest_trades = await pandas_exchange.fetch_trades(symbol, limit=1000)\n",
    "    print(ohlcv.tail())\n",
    "    print(order_book.tail())\n",
    "    print(latest_trades.tail())\n",
    "    exchange.close()\n",
    "\n",
    "\n",
    "asyncio.run(main())"
   ]
  }
 ],
 "metadata": {
  "kernelspec": {
   "display_name": "Python 3 (ipykernel)",
   "language": "python",
   "name": "python3"
  },
  "language_info": {
   "codemirror_mode": {
    "name": "ipython",
    "version": 3
   },
   "file_extension": ".py",
   "mimetype": "text/x-python",
   "name": "python",
   "nbconvert_exporter": "python",
   "pygments_lexer": "ipython3",
   "version": "3.12.9"
  }
 },
 "nbformat": 4,
 "nbformat_minor": 5
}
