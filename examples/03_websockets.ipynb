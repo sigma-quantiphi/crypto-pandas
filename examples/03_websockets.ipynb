{
 "cells": [
  {
   "cell_type": "markdown",
   "id": "309b94b4-915a-4932-a27d-6414836b671c",
   "metadata": {},
   "source": [
    "# Example 3: Subscribe to new events using websockets"
   ]
  },
  {
   "cell_type": "markdown",
   "id": "dbee7585-2524-4c47-9c16-7178c912b7a6",
   "metadata": {},
   "source": [
    "Cannot be run inside of Jupyter notebook. Copy/paste this file into .py file."
   ]
  },
  {
   "cell_type": "code",
   "execution_count": null,
   "id": "82190ba6-acdb-47be-bad2-15ccf1ab3d50",
   "metadata": {},
   "outputs": [],
   "source": [
    "import asyncio\n",
    "import ccxt.pro as ccxt\n",
    "from crypto_pandas import AsyncCCXTPandasExchange\n",
    "\n",
    "\n",
    "async def main():\n",
    "    exchange = ccxt.binance(\n",
    "        {\n",
    "            \"enableRateLimit\": True,\n",
    "        }\n",
    "    )\n",
    "    pandas_exchange = AsyncCCXTPandasExchange(exchange=exchange)\n",
    "    try:\n",
    "        while True:\n",
    "            ohlcv = await pandas_exchange.watch_ohlcv(\"BNB/USDT\")\n",
    "            order_book = await pandas_exchange.watch_order_book(\"BNB/USDT\")\n",
    "            print(ohlcv)\n",
    "            print(order_book)\n",
    "    except KeyboardInterrupt:\n",
    "        print(\"Websocket connection closed\")\n",
    "    finally:\n",
    "        await exchange.close()\n",
    "\n",
    "\n",
    "asyncio.run(main())"
   ]
  }
 ],
 "metadata": {
  "kernelspec": {
   "display_name": "Python 3 (ipykernel)",
   "language": "python",
   "name": "python3"
  },
  "language_info": {
   "codemirror_mode": {
    "name": "ipython",
    "version": 3
   },
   "file_extension": ".py",
   "mimetype": "text/x-python",
   "name": "python",
   "nbconvert_exporter": "python",
   "pygments_lexer": "ipython3",
   "version": "3.12.9"
  }
 },
 "nbformat": 4,
 "nbformat_minor": 5
}
